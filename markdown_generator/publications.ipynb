{
 "cells": [
  {
   "cell_type": "markdown",
   "metadata": {},
   "source": [
    "# Publications markdown generator for academicpages\n",
    "\n",
    "Takes a TSV of publications with metadata and converts them for use with [academicpages.github.io](academicpages.github.io). This is an interactive Jupyter notebook ([see more info here](http://jupyter-notebook-beginner-guide.readthedocs.io/en/latest/what_is_jupyter.html)). The core python code is also in `publications.py`. Run either from the `markdown_generator` folder after replacing `publications.tsv` with one containing your data.\n",
    "\n",
    "TODO: Make this work with BibTex and other databases of citations, rather than Stuart's non-standard TSV format and citation style.\n"
   ]
  },
  {
   "cell_type": "markdown",
   "metadata": {},
   "source": [
    "## Data format\n",
    "\n",
    "The TSV needs to have the following columns: pub_date, title, venue, excerpt, citation, site_url, and paper_url, with a header at the top. \n",
    "\n",
    "- `excerpt` and `paper_url` can be blank, but the others must have values. \n",
    "- `pub_date` must be formatted as YYYY-MM-DD.\n",
    "- `url_slug` will be the descriptive part of the .md file and the permalink URL for the page about the paper. The .md file will be `YYYY-MM-DD-[url_slug].md` and the permalink will be `https://[yourdomain]/publications/YYYY-MM-DD-[url_slug]`\n",
    "\n",
    "This is how the raw file looks (it doesn't look pretty, use a spreadsheet or other program to edit and create)."
   ]
  },
  {
   "cell_type": "code",
   "execution_count": 1,
   "metadata": {
    "collapsed": false,
    "jupyter": {
     "outputs_hidden": false
    }
   },
   "outputs": [
    {
     "name": "stdout",
     "output_type": "stream",
     "text": [
      "pub_date\ttitle\tvenue\texcerpt\tcitation\turl_slug\tpaper_url\n",
      "16/1/23\t\"The relationship between journalists and platforms in European online content governance: A case study on a \"\"non-interference principle''\"\tEuropean Journal of Communication (Preprint)\tAmongst the many debates within the sphere of platform governance, one is particularly telling of the political stakes at play: how should journalistic content be treated in relation to content regulation? There is, perhaps, no better case in which this is playing out than the upcoming Digital Services Act proposed by the European Commission. Specifically, on the one hand, news media organisations have been lobbying for a дnon-interference principleе that would prevent platforms from moderating editorial content that has been published by credible news sources, while on the other hand, officials, platforms, and civil society experts have been arguing against such a measure, primarily, due to the risk of creating an exploitable loophole for bad actors. This paper aims to unravel the contentious negotiations behind this debate. This article draws from more than a dozen of in-depth interviews with relevant stakeholders. Finally, this paper aspires to help inform the multifaceted conundrum of who governs the contemporary digital public sphere, to further expose the risks of entrusting this task solely to social media platforms and, last, to contribute to a much-needed theorisation and reconsideration of news mediaеs role in platform governance.\t\"Papaevangelou, C. (2023). The relationship between journalists and platforms in European online content governance: A case study on a \"\"non-interference principleее (halshs-03933538). HAL.\"\tmedia-exemption\thttps://shs.hal.science/halshs-03933538v1\n",
      "13/1/23\tFunding Intermediaries: Google and Facebookеs Strategy to Capture Journalism\tDigital Journalism\tWith more and more governments around the world considering or having already passed laws aiming to regulate the relationship between news publishers and online platforms, primarily, by ensuring a form of remuneration of the former from the latter, we ought to understand the current situation. This article seeks to inquire who platforms fund, how and why. We created a dataset of organizations that have participated in Google News Initiative or Facebook Journalism Project by gathering data from communicative and informative material found on the websites of platforms and beneficiaries. Through our analysis, we identified stakeholders that play a crucial role in the realization of platformsе funding programs, whom we call funding intermediaries. Therefore, this article contends that the platformsе strategic decision has not only been to distribute money through a complicated governance structure, but also to target parts of the industry that have been hurt by an ongoing crisis, aggravated by the platformsе dominance of the advertising industry. However, funding journalism ensures neither media capture, i.e., positive or lack of critical coverage, nor regulatory capture, i.e., avoiding or adjusting regulation. As a result, we ultimately propose to approach capture as a political-economic concept to study platform power.\tPapaevangelou, C. (2023). Funding Intermediaries: Google and Facebookеs Strategy to Capture Journalism. <i>Digital Journalism</i>, 1а22. https://doi.org/10.1080/21670811.2022.2155206\tfund-intermediaries\thttps://www.tandfonline.com/doi/full/10.1080/21670811.2022.2155206\n",
      "4/1/23\tThe role of citizens in platform governance: A case study on public consultations regarding online content regulation in the European Union\tGlobal Media and China\tThis article proposes to start considering the role that citizens play in platform governance as a way of critically reflecting on issues of inclusivity in and effectiveness of current decision-making processes. This article attempts to apply the above suggestion by studying citizensе discourse in recent European efforts to regulate online content. It does so by employing an experimental methodology, namely, a computationally assisted Critical Discourse Analysis on textual data derived from citizensе contributions to the European Commissionеs Public Consultations on three crucial regulatory texts: the Code of Practice on Disinformation, the Recommendation on Tackling Illegal Content Online and the Digital Services Act. The present analysis suggests that the EUеs strategy to advance participatory governance through public consultations seems to ignore citizensе qualitative input and, thus, the feedback received can be severely limited. Concluding, the article maintains that scholarship should adopt a more encompassing scope when studying platform governance, especially concerning citizen and user participation, beyond the traditional frame of participation through civil society representation, while critically scrutinising existing ostensibly participatory structures.\tPapaevangelou, C. (2023). The role of citizens in platform governance: A case study on public consultations regarding online content regulation in the European Union. <i>Global Media and China</i>, 0(0). https://doi.org/10.1177/20594364221150142\tpaper-title-number-3\thttps://journals.sagepub.com/doi/abs/10.1177/20594364221150142\n",
      "6/9/22\tThe Case of a Facebook Content Moderation Debacle in Greece\tJournalism and Digital Content in Emerging Media Markets\t\"This chapter first discusses how Facebookеs content moderation process works, along with Facebookеs policies on Dangerous Individuals and Organizations, which were allegedly violated in the case we examine in this chapter; second, we briefly describe necessary contextual information regarding 17 November and Koufontinasеs actions, as well as what sparked the controversy presented here. Our case study consists of several instances of content removals and account restrictions of Greek journalists that were covering protests and were participating in the public debate around Koufontinas's hunger strike. All examined content moderation decisions took place on Facebook during the same period, mostly between February and April 2021. Last, we conduct a case-by-case analysis to deduce if the content had indeed violated any platform policy to extrapolate what may have happened in this case study and what socio-political stakes exist with the current content governance. Consequently, we argue that this chapter further demonstrates platformsе preference to proactively err on the side of more content removal rather than letting politically controversial content on its services; this also further strengthens the argument that platforms are not neutral intermediaries and are increasingly taking editorial decisions.\"\tPapaevangelou, C., Smyrnaios, N. (2022). The Case of a Facebook Content Moderation Debacle in Greece. In: Iordanidou, S., Jebril, N., Takas, E. (eds) <i>Journalism and Digital Content in Emerging Media Markets </i>. Palgrave Macmillan, Cham. https://doi.org/10.1007/978-3-031-04552-3_2\tfb-como-debacle\thttps://link.springer.com/chapter/10.1007/978-3-031-04552-3_2\n",
      "9/8/22\tRegulating dependency: the political stakes of online platforms' deals with French publishers\tRevista Analisi (Preprint)\tAt a time when the news industry struggles to cope with the dominance of the advertising market by large platforms, along with recent crises like the Covid-19 pandemic, commercial deals and regulatory initiatives are becoming increasingly common. While there is ample space for regulatory interventions seeking to level the playing field between news industryеs stakeholders and platforms, we are concerned these might further cement dependency of the former on the latter through co-regulatory frameworks that epitomize the capture of vital infrastructures by platforms. This article examines the three-year negotiation of French news publishers with Google and Meta, which concluded with four framework agreements being signed. For our analysis, we first look at the historical trajectory of how these deals were made possible using secondary sources, like leaks, press releases and the French Competition Authorityеs rulings, and we then discuss their details and implications. We trace Googleеs attempt to capture news media in France and discuss the asymmetrical power it has muscled over the news industry, and how the subsequent deals with Meta were affected. Finally, our case study shows that these frameworks are not sufficient to tackle systemic imbalances а even if they mean well - because they fail to challenge the concentration of power by a handful of oligopolistic private companies and, thus, effectively leave it up to them and the free marketеs idiosyncrasies to decide how they are implemented.\tPapaevangelou, C., & Smyrnaios, N. (2022). Regulating dependency: The political stakes of online platformsе deals with French publishers (halshs-03747847). HAL. https://halshs.archives-ouvertes.fr/halshs-03747847v2\treg-dependency\thttps://shs.hal.science/halshs-03747847/\n",
      "16/9/21\tCovidcheck: assessing the implementation of EU code of practice on disinformation in relation to Covid-19\tDublin City University\tCovidCheck is the third monitoring report that has been commissioned by the BAI and prepared by the DCU Institute for Future Media, Democracy and Society (FuJo), on the implementation of the Code in Ireland. Each of these reports has been part of a larger monitoring process undertaken by European Regulators Group for Audiovisual Media Services (ERGA), at the request of the EU Commission. As with the first two reports, the authors of CovidCheck conclude that, while the Code is a significant first step in fighting disinformation, significant weaknesses in terms of structure, content and enforcement remain to be addressed. This conclusion also underpins the guidance issued by the EU Commission in May 2021 on how the Code should be strengthened by the signatories to become a more effective tool in fighting disinformation.\tEileen, C., Kirsty, P., Feenane, T., Papaevangelou, C., Conroy, A., & Suiter, J. (2021). CovidCheck: Assessing the Implentation of EU Code of Practice on Disinformation in Relation to Covid-19. <i>DCU Institute of Future Media, Democracy and Society & Broadcasting Authority of Ireland </i>. https://fujomedia.eu/wp-content/uploads/2021/09/Code2021_COVIDCheck.pdf\tcovidcheck\thttp://doras.dcu.ie/26472/1/20210914_Final-Report_DCU.pdf\n",
      "15/9/21\tExploring Video-game Production's Contingency on Live-Streaming Platforms: The Case of Twitch\tAoIR Selected Papers of Internet Research, 2021\tThis article studies the cultural contingency of video-game production on Amazonеs live-streaming platform, Twitch. It looks at this phenomenon from a political-economic perspective to unearth Twitchеs platformisation strategy to better understand what it means for the video-game industry. Platformisation signifies the infrastructural embeddedness of platforms, supported by a business strategy of expanding beyond their servicesе boundaries to standardise appropriation, processing and exploitation of data, resulting in a dependency of content creators on digital platforms. Subsequently, we wish to grasp what dependencies are created and how it is made possible. We argue that Twitch is transforming into an integral part of the video-game production cycle by expanding its services to every stage of a gameеs life cycle. Consequently, game developers are incentivised to apply these features in their game design, thus creating an economic feedback loop that a) aspires to increase user acquisition, retention and revenue, b) locks-in game developers and viewers alike, and c) вplatformisesг the gaming experience.\tPapaevangelou, C., & Roinioti, E. (2021). EXPLORING VIDEO-GAME PRODUCTIONеS CONTINGENCY ON LIVE-STREAMING PLATFORMS: THE CASE OF TWITCH. AoIR Selected Papers of Internet Research, 2021. https://doi.org/10.5210/spir.v2021i0.12223\ttwitch-pol-econ\thttps://journals.uic.edu/ojs/index.php/spir/article/view/12223\n",
      "1/9/21\teSports and Digital Arenas\tDigital Games: Philosophical, social and cultural investigations\t\tPapaevangelou, C., & Roinioti, E. (2021). eSports and Digital Arenas. In <i>Digital Games: Philosophical, social and cultural investigations</i>. Oasis.\tesports-twitch\t\n",
      "1/7/21\tThe existential stakes of platform governance: a critical literature review\tOpen Research Europe\tThis study introduces a comprehensive overview of literature concerning the concepts of regulation and governance, and attempts to connect them to scholarly works that deal with the governance of and by social media platforms. The paper provides fundamental definitions of regulation and governance, along with a critique of polycentricity or multi-stakeholderism, in order to contextualise the discussion around platform governance and, subsequently, online content regulation. Moreover, where traditional governance literature conceptualised stakeholders as a triangle, this article proposes going beyond the triad of public, private and non-governmental actors, to account for previously invisible stakeholder clusters, like citizens and news media organisations. This paper also contends that, while platform governance is an important field of study and practice, the way it has been structured and investigated so far, is posing an existential risk to the broader internet governance structure, primarily, because of the danger of conflating the internet with platforms. As a result, there exists a timely need to reimagine the way in which we understand and study phenomena related to platform governance by adjusting our conceptual and analytical heuristics. So, this article wishes to expand the theorisation of this field in order to better engage with complicated platform governance issues, like the development of regulatory frameworks concerning online content regulation.\t\"Papaevangelou, C. (2021). \"\"The existential stakes of platform governance: a critical literature review\"\" <i>Open Research Europe</i>. 1(1).\"\tplat-gov-lit-review\thttps://open-research-europe.ec.europa.eu/articles/1-31/v2"
     ]
    }
   ],
   "source": [
    "!cat publications.tsv"
   ]
  },
  {
   "cell_type": "markdown",
   "metadata": {
    "jp-MarkdownHeadingCollapsed": true,
    "tags": []
   },
   "source": [
    "## Import pandas\n",
    "\n",
    "We are using the very handy pandas library for dataframes."
   ]
  },
  {
   "cell_type": "code",
   "execution_count": 2,
   "metadata": {
    "deletable": true,
    "editable": true,
    "tags": []
   },
   "outputs": [],
   "source": [
    "import pandas as pd"
   ]
  },
  {
   "cell_type": "markdown",
   "metadata": {},
   "source": [
    "## Import TSV\n",
    "\n",
    "Pandas makes this easy with the read_csv function. We are using a TSV, so we specify the separator as a tab, or `\\t`.\n",
    "\n",
    "I found it important to put this data in a tab-separated values format, because there are a lot of commas in this kind of data and comma-separated values can get messed up. However, you can modify the import statement, as pandas also has read_excel(), read_json(), and others."
   ]
  },
  {
   "cell_type": "code",
   "execution_count": 3,
   "metadata": {
    "collapsed": false,
    "deletable": true,
    "editable": true,
    "jupyter": {
     "outputs_hidden": false
    }
   },
   "outputs": [
    {
     "data": {
      "text/html": [
       "<div>\n",
       "<style scoped>\n",
       "    .dataframe tbody tr th:only-of-type {\n",
       "        vertical-align: middle;\n",
       "    }\n",
       "\n",
       "    .dataframe tbody tr th {\n",
       "        vertical-align: top;\n",
       "    }\n",
       "\n",
       "    .dataframe thead th {\n",
       "        text-align: right;\n",
       "    }\n",
       "</style>\n",
       "<table border=\"1\" class=\"dataframe\">\n",
       "  <thead>\n",
       "    <tr style=\"text-align: right;\">\n",
       "      <th></th>\n",
       "      <th>pub_date</th>\n",
       "      <th>title</th>\n",
       "      <th>venue</th>\n",
       "      <th>excerpt</th>\n",
       "      <th>citation</th>\n",
       "      <th>url_slug</th>\n",
       "      <th>paper_url</th>\n",
       "    </tr>\n",
       "  </thead>\n",
       "  <tbody>\n",
       "    <tr>\n",
       "      <th>0</th>\n",
       "      <td>16/1/23</td>\n",
       "      <td>The relationship between journalists and platf...</td>\n",
       "      <td>European Journal of Communication (Preprint)</td>\n",
       "      <td>Amongst the many debates within the sphere of ...</td>\n",
       "      <td>Papaevangelou, C. (2023). The relationship bet...</td>\n",
       "      <td>media-exemption</td>\n",
       "      <td>https://shs.hal.science/halshs-03933538v1</td>\n",
       "    </tr>\n",
       "    <tr>\n",
       "      <th>1</th>\n",
       "      <td>13/1/23</td>\n",
       "      <td>Funding Intermediaries: Google and Facebookеs ...</td>\n",
       "      <td>Digital Journalism</td>\n",
       "      <td>With more and more governments around the worl...</td>\n",
       "      <td>Papaevangelou, C. (2023). Funding Intermediari...</td>\n",
       "      <td>fund-intermediaries</td>\n",
       "      <td>https://www.tandfonline.com/doi/full/10.1080/2...</td>\n",
       "    </tr>\n",
       "    <tr>\n",
       "      <th>2</th>\n",
       "      <td>4/1/23</td>\n",
       "      <td>The role of citizens in platform governance: A...</td>\n",
       "      <td>Global Media and China</td>\n",
       "      <td>This article proposes to start considering the...</td>\n",
       "      <td>Papaevangelou, C. (2023). The role of citizens...</td>\n",
       "      <td>paper-title-number-3</td>\n",
       "      <td>https://journals.sagepub.com/doi/abs/10.1177/2...</td>\n",
       "    </tr>\n",
       "    <tr>\n",
       "      <th>3</th>\n",
       "      <td>6/9/22</td>\n",
       "      <td>The Case of a Facebook Content Moderation Deba...</td>\n",
       "      <td>Journalism and Digital Content in Emerging Med...</td>\n",
       "      <td>This chapter first discusses how Facebookеs co...</td>\n",
       "      <td>Papaevangelou, C., Smyrnaios, N. (2022). The C...</td>\n",
       "      <td>fb-como-debacle</td>\n",
       "      <td>https://link.springer.com/chapter/10.1007/978-...</td>\n",
       "    </tr>\n",
       "    <tr>\n",
       "      <th>4</th>\n",
       "      <td>9/8/22</td>\n",
       "      <td>Regulating dependency: the political stakes of...</td>\n",
       "      <td>Revista Analisi (Preprint)</td>\n",
       "      <td>At a time when the news industry struggles to ...</td>\n",
       "      <td>Papaevangelou, C., &amp; Smyrnaios, N. (2022). Reg...</td>\n",
       "      <td>reg-dependency</td>\n",
       "      <td>https://shs.hal.science/halshs-03747847/</td>\n",
       "    </tr>\n",
       "    <tr>\n",
       "      <th>5</th>\n",
       "      <td>16/9/21</td>\n",
       "      <td>Covidcheck: assessing the implementation of EU...</td>\n",
       "      <td>Dublin City University</td>\n",
       "      <td>CovidCheck is the third monitoring report that...</td>\n",
       "      <td>Eileen, C., Kirsty, P., Feenane, T., Papaevang...</td>\n",
       "      <td>covidcheck</td>\n",
       "      <td>http://doras.dcu.ie/26472/1/20210914_Final-Rep...</td>\n",
       "    </tr>\n",
       "    <tr>\n",
       "      <th>6</th>\n",
       "      <td>15/9/21</td>\n",
       "      <td>Exploring Video-game Production's Contingency ...</td>\n",
       "      <td>AoIR Selected Papers of Internet Research, 2021</td>\n",
       "      <td>This article studies the cultural contingency ...</td>\n",
       "      <td>Papaevangelou, C., &amp; Roinioti, E. (2021). EXPL...</td>\n",
       "      <td>twitch-pol-econ</td>\n",
       "      <td>https://journals.uic.edu/ojs/index.php/spir/ar...</td>\n",
       "    </tr>\n",
       "    <tr>\n",
       "      <th>7</th>\n",
       "      <td>1/9/21</td>\n",
       "      <td>eSports and Digital Arenas</td>\n",
       "      <td>Digital Games: Philosophical, social and cultu...</td>\n",
       "      <td>NaN</td>\n",
       "      <td>Papaevangelou, C., &amp; Roinioti, E. (2021). eSpo...</td>\n",
       "      <td>esports-twitch</td>\n",
       "      <td>NaN</td>\n",
       "    </tr>\n",
       "    <tr>\n",
       "      <th>8</th>\n",
       "      <td>1/7/21</td>\n",
       "      <td>The existential stakes of platform governance:...</td>\n",
       "      <td>Open Research Europe</td>\n",
       "      <td>This study introduces a comprehensive overview...</td>\n",
       "      <td>Papaevangelou, C. (2021). \"The existential sta...</td>\n",
       "      <td>plat-gov-lit-review</td>\n",
       "      <td>https://open-research-europe.ec.europa.eu/arti...</td>\n",
       "    </tr>\n",
       "  </tbody>\n",
       "</table>\n",
       "</div>"
      ],
      "text/plain": [
       "  pub_date                                              title  \\\n",
       "0  16/1/23  The relationship between journalists and platf...   \n",
       "1  13/1/23  Funding Intermediaries: Google and Facebookеs ...   \n",
       "2   4/1/23  The role of citizens in platform governance: A...   \n",
       "3   6/9/22  The Case of a Facebook Content Moderation Deba...   \n",
       "4   9/8/22  Regulating dependency: the political stakes of...   \n",
       "5  16/9/21  Covidcheck: assessing the implementation of EU...   \n",
       "6  15/9/21  Exploring Video-game Production's Contingency ...   \n",
       "7   1/9/21                         eSports and Digital Arenas   \n",
       "8   1/7/21  The existential stakes of platform governance:...   \n",
       "\n",
       "                                               venue  \\\n",
       "0       European Journal of Communication (Preprint)   \n",
       "1                                 Digital Journalism   \n",
       "2                             Global Media and China   \n",
       "3  Journalism and Digital Content in Emerging Med...   \n",
       "4                         Revista Analisi (Preprint)   \n",
       "5                             Dublin City University   \n",
       "6    AoIR Selected Papers of Internet Research, 2021   \n",
       "7  Digital Games: Philosophical, social and cultu...   \n",
       "8                               Open Research Europe   \n",
       "\n",
       "                                             excerpt  \\\n",
       "0  Amongst the many debates within the sphere of ...   \n",
       "1  With more and more governments around the worl...   \n",
       "2  This article proposes to start considering the...   \n",
       "3  This chapter first discusses how Facebookеs co...   \n",
       "4  At a time when the news industry struggles to ...   \n",
       "5  CovidCheck is the third monitoring report that...   \n",
       "6  This article studies the cultural contingency ...   \n",
       "7                                                NaN   \n",
       "8  This study introduces a comprehensive overview...   \n",
       "\n",
       "                                            citation              url_slug  \\\n",
       "0  Papaevangelou, C. (2023). The relationship bet...       media-exemption   \n",
       "1  Papaevangelou, C. (2023). Funding Intermediari...   fund-intermediaries   \n",
       "2  Papaevangelou, C. (2023). The role of citizens...  paper-title-number-3   \n",
       "3  Papaevangelou, C., Smyrnaios, N. (2022). The C...       fb-como-debacle   \n",
       "4  Papaevangelou, C., & Smyrnaios, N. (2022). Reg...        reg-dependency   \n",
       "5  Eileen, C., Kirsty, P., Feenane, T., Papaevang...            covidcheck   \n",
       "6  Papaevangelou, C., & Roinioti, E. (2021). EXPL...       twitch-pol-econ   \n",
       "7  Papaevangelou, C., & Roinioti, E. (2021). eSpo...        esports-twitch   \n",
       "8  Papaevangelou, C. (2021). \"The existential sta...   plat-gov-lit-review   \n",
       "\n",
       "                                           paper_url  \n",
       "0          https://shs.hal.science/halshs-03933538v1  \n",
       "1  https://www.tandfonline.com/doi/full/10.1080/2...  \n",
       "2  https://journals.sagepub.com/doi/abs/10.1177/2...  \n",
       "3  https://link.springer.com/chapter/10.1007/978-...  \n",
       "4           https://shs.hal.science/halshs-03747847/  \n",
       "5  http://doras.dcu.ie/26472/1/20210914_Final-Rep...  \n",
       "6  https://journals.uic.edu/ojs/index.php/spir/ar...  \n",
       "7                                                NaN  \n",
       "8  https://open-research-europe.ec.europa.eu/arti...  "
      ]
     },
     "execution_count": 3,
     "metadata": {},
     "output_type": "execute_result"
    }
   ],
   "source": [
    "publications = pd.read_csv(\"publications.tsv\", sep=\"\\t\", header=0)\n",
    "publications\n"
   ]
  },
  {
   "cell_type": "markdown",
   "metadata": {},
   "source": [
    "## Escape special characters\n",
    "\n",
    "YAML is very picky about how it takes a valid string, so we are replacing single and double quotes (and ampersands) with their HTML encoded equivilents. This makes them look not so readable in raw format, but they are parsed and rendered nicely."
   ]
  },
  {
   "cell_type": "code",
   "execution_count": 4,
   "metadata": {
    "deletable": true,
    "editable": true
   },
   "outputs": [],
   "source": [
    "html_escape_table = {\n",
    "    \"&\": \"&amp;\",\n",
    "    '\"': \"&quot;\",\n",
    "    \"'\": \"&apos;\"\n",
    "    }\n",
    "\n",
    "def html_escape(text):\n",
    "    \"\"\"Produce entities within text.\"\"\"\n",
    "    return \"\".join(html_escape_table.get(c,c) for c in text)"
   ]
  },
  {
   "cell_type": "markdown",
   "metadata": {},
   "source": [
    "## Creating the markdown files\n",
    "\n",
    "This is where the heavy lifting is done. This loops through all the rows in the TSV dataframe, then starts to concatentate a big string (```md```) that contains the markdown for each type. It does the YAML metadata first, then does the description for the individual page."
   ]
  },
  {
   "cell_type": "code",
   "execution_count": 5,
   "metadata": {
    "collapsed": false,
    "deletable": true,
    "editable": true,
    "jupyter": {
     "outputs_hidden": false
    }
   },
   "outputs": [],
   "source": [
    "import os\n",
    "for row, item in publications.iterrows():\n",
    "    \n",
    "    md_filename = str(item.pub_date) + \"-\" + item.url_slug + \".md\"\n",
    "    html_filename = str(item.pub_date) + \"-\" + item.url_slug\n",
    "    year = item.pub_date[:4]\n",
    "    \n",
    "    ## YAML variables\n",
    "    \n",
    "    md = \"---\\ntitle: \\\"\"   + item.title + '\"\\n'\n",
    "    \n",
    "    md += \"\"\"collection: publications\"\"\"\n",
    "    \n",
    "    md += \"\"\"\\npermalink: /publication/\"\"\" + html_filename\n",
    "    \n",
    "    if len(str(item.excerpt)) > 5:\n",
    "        md += \"\\nexcerpt: '\" + html_escape(item.excerpt) + \"'\"\n",
    "    \n",
    "    md += \"\\ndate: \" + str(item.pub_date) \n",
    "    \n",
    "    md += \"\\nvenue: '\" + html_escape(item.venue) + \"'\"\n",
    "    \n",
    "    if len(str(item.paper_url)) > 5:\n",
    "        md += \"\\npaperurl: '\" + item.paper_url + \"'\"\n",
    "    \n",
    "    md += \"\\ncitation: '\" + html_escape(item.citation) + \"'\"\n",
    "    \n",
    "    md += \"\\n---\"\n",
    "    \n",
    "    ## Markdown description for individual page\n",
    "        \n",
    "    if len(str(item.excerpt)) > 5:\n",
    "        md += \"\\n\" + html_escape(item.excerpt) + \"\\n\"\n",
    "    \n",
    "    if len(str(item.paper_url)) > 5:\n",
    "        md += \"\\n[Download paper here](\" + item.paper_url + \")\\n\" \n",
    "        \n",
    "    md += \"\\nRecommended citation: \" + item.citation\n",
    "    \n",
    "    md_filename = os.path.basename(md_filename)\n",
    "       \n",
    "    with open(\"../_publications/\" + md_filename, 'w') as f:\n",
    "        f.write(md)"
   ]
  },
  {
   "cell_type": "markdown",
   "metadata": {},
   "source": [
    "These files are in the publications directory, one directory below where we're working from."
   ]
  },
  {
   "cell_type": "code",
   "execution_count": 6,
   "metadata": {
    "collapsed": false,
    "deletable": true,
    "editable": true,
    "jupyter": {
     "outputs_hidden": false
    }
   },
   "outputs": [
    {
     "name": "stdout",
     "output_type": "stream",
     "text": [
      "21-covidcheck.md           22-reg-dependency.md\n",
      "21-esports-twitch.md       23-fund-intermediaries.md\n",
      "21-plat-gov-lit-review.md  23-media-exemption.md\n",
      "21-twitch-pol-econ.md      23-paper-title-number-3.md\n",
      "22-fb-como-debacle.md\n"
     ]
    }
   ],
   "source": [
    "!ls ../_publications/"
   ]
  },
  {
   "cell_type": "code",
   "execution_count": 7,
   "metadata": {
    "collapsed": false,
    "deletable": true,
    "editable": true,
    "jupyter": {
     "outputs_hidden": false
    }
   },
   "outputs": [
    {
     "name": "stdout",
     "output_type": "stream",
     "text": [
      "cat: ../_publications/2009-10-01-paper-title-number-1.md: No such file or directory\n"
     ]
    }
   ],
   "source": [
    "!cat ../_publications/2009-10-01-paper-title-number-1.md"
   ]
  },
  {
   "cell_type": "code",
   "execution_count": null,
   "metadata": {
    "collapsed": true,
    "deletable": true,
    "editable": true,
    "jupyter": {
     "outputs_hidden": true
    }
   },
   "outputs": [],
   "source": []
  },
  {
   "cell_type": "code",
   "execution_count": null,
   "metadata": {},
   "outputs": [],
   "source": []
  },
  {
   "cell_type": "code",
   "execution_count": null,
   "metadata": {},
   "outputs": [],
   "source": []
  },
  {
   "cell_type": "code",
   "execution_count": null,
   "metadata": {},
   "outputs": [],
   "source": []
  }
 ],
 "metadata": {
  "kernelspec": {
   "display_name": "Python 3 (ipykernel)",
   "language": "python",
   "name": "python3"
  },
  "language_info": {
   "codemirror_mode": {
    "name": "ipython",
    "version": 3
   },
   "file_extension": ".py",
   "mimetype": "text/x-python",
   "name": "python",
   "nbconvert_exporter": "python",
   "pygments_lexer": "ipython3",
   "version": "3.10.0"
  }
 },
 "nbformat": 4,
 "nbformat_minor": 4
}
